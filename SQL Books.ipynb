{
 "cells": [
  {
   "cell_type": "code",
   "execution_count": 3,
   "metadata": {},
   "outputs": [
    {
     "name": "stdout",
     "output_type": "stream",
     "text": [
      "Requirement already satisfied: pandas in c:\\users\\dell\\appdata\\roaming\\python\\python38\\site-packages (0.25.3)\n",
      "Requirement already satisfied: numpy>=1.13.3 in c:\\users\\dell\\appdata\\roaming\\python\\python38\\site-packages (from pandas) (1.19.5)\n",
      "Requirement already satisfied: python-dateutil>=2.6.1 in c:\\users\\dell\\anaconda3\\lib\\site-packages (from pandas) (2.8.1)\n",
      "Requirement already satisfied: pytz>=2017.2 in c:\\users\\dell\\anaconda3\\lib\\site-packages (from pandas) (2020.1)\n",
      "Requirement already satisfied: six>=1.5 in c:\\users\\dell\\appdata\\roaming\\python\\python38\\site-packages (from python-dateutil>=2.6.1->pandas) (1.15.0)\n",
      "Note: you may need to restart the kernel to use updated packages.\n"
     ]
    }
   ],
   "source": [
    "pip install pandas"
   ]
  },
  {
   "cell_type": "code",
   "execution_count": 5,
   "metadata": {},
   "outputs": [
    {
     "name": "stdout",
     "output_type": "stream",
     "text": [
      "Database setup complete!\n"
     ]
    }
   ],
   "source": [
    "import sqlite3\n",
    "\n",
    "# Connect to SQLite database (creates the database file if it doesn't exist)\n",
    "conn = sqlite3.connect('books_inventory1.db')\n",
    "cursor = conn.cursor()\n",
    "\n",
    "# Create the Inventory table\n",
    "cursor.execute('''\n",
    "CREATE TABLE IF NOT EXISTS Inventory (\n",
    "    entry_id INTEGER PRIMARY KEY AUTOINCREMENT,\n",
    "    title TEXT NOT NULL,\n",
    "    author TEXT NOT NULL,\n",
    "    genre TEXT NOT NULL,\n",
    "    publication_date DATE,\n",
    "    isbn TEXT UNIQUE NOT NULL\n",
    ")\n",
    "''')\n",
    "\n",
    "conn.commit()\n",
    "print(\"Database setup complete!\")"
   ]
  },
  {
   "cell_type": "markdown",
   "metadata": {},
   "source": [
    "# ADD NEW BOOKS"
   ]
  },
  {
   "cell_type": "code",
   "execution_count": 2,
   "metadata": {},
   "outputs": [
    {
     "name": "stdout",
     "output_type": "stream",
     "text": [
      "Book added successfully!\n",
      "Book added successfully!\n"
     ]
    }
   ],
   "source": [
    "def add_book(title, author, genre, publication_date, isbn):\n",
    "    try:\n",
    "        cursor.execute('''\n",
    "        INSERT INTO Inventory (title, author, genre, publication_date, isbn)\n",
    "        VALUES (?, ?, ?, ?, ?)\n",
    "        ''', (title, author, genre, publication_date, isbn))\n",
    "        conn.commit()\n",
    "        print(\"Book added successfully!\")\n",
    "    except sqlite3.IntegrityError as e:\n",
    "        print(f\"Error: {e}\")\n",
    "\n",
    "# Example Usage\n",
    "add_book(\"The Great Gatsby\", \"F. Scott Fitzgerald\", \"Classic\", \"1925-04-10\", \"9780743273565\")\n",
    "add_book(\"1984\", \"George Orwell\", \"Dystopian\", \"1949-06-08\", \"9780451524935\")"
   ]
  },
  {
   "cell_type": "markdown",
   "metadata": {},
   "source": [
    "# FILTER BOOKS"
   ]
  },
  {
   "cell_type": "code",
   "execution_count": 3,
   "metadata": {},
   "outputs": [
    {
     "name": "stdout",
     "output_type": "stream",
     "text": [
      "   entry_id title         author      genre publication_date           isbn\n",
      "0         2  1984  George Orwell  Dystopian       1949-06-08  9780451524935\n"
     ]
    }
   ],
   "source": [
    "import pandas as pd\n",
    "\n",
    "def filter_books(title=None, author=None, genre=None, date_from=None, date_to=None):\n",
    "    query = \"SELECT * FROM Inventory WHERE 1=1\"\n",
    "    params = []\n",
    "\n",
    "    if title:\n",
    "        query += \" AND title LIKE ?\"\n",
    "        params.append(f\"%{title}%\")\n",
    "    if author:\n",
    "        query += \" AND author LIKE ?\"\n",
    "        params.append(f\"%{author}%\")\n",
    "    if genre:\n",
    "        query += \" AND genre = ?\"\n",
    "        params.append(genre)\n",
    "    if date_from:\n",
    "        query += \" AND publication_date >= ?\"\n",
    "        params.append(date_from)\n",
    "    if date_to:\n",
    "        query += \" AND publication_date <= ?\"\n",
    "        params.append(date_to)\n",
    "    \n",
    "    result = pd.read_sql_query(query, conn, params=params)\n",
    "    return result\n",
    "\n",
    "# Example Usage\n",
    "filtered_books = filter_books(author=\"George Orwell\")\n",
    "print(filtered_books)"
   ]
  },
  {
   "cell_type": "markdown",
   "metadata": {},
   "source": [
    "# EXPORT DATA TO CSV"
   ]
  },
  {
   "cell_type": "code",
   "execution_count": 7,
   "metadata": {},
   "outputs": [
    {
     "name": "stdout",
     "output_type": "stream",
     "text": [
      "Data exported to books_inventory1.csv!\n"
     ]
    }
   ],
   "source": [
    "def export_to_csv(file_name=\"books_inventory1.csv\"):\n",
    "    books = pd.read_sql_query(\"SELECT * FROM Inventory\", conn)\n",
    "    books.to_csv(file_name, index=False)\n",
    "    print(f\"Data exported to {file_name}!\")\n",
    "\n",
    "# Example Usage\n",
    "export_to_csv()"
   ]
  },
  {
   "cell_type": "markdown",
   "metadata": {},
   "source": [
    "# EXPORT DATA TO JSON"
   ]
  },
  {
   "cell_type": "code",
   "execution_count": 12,
   "metadata": {},
   "outputs": [
    {
     "name": "stdout",
     "output_type": "stream",
     "text": [
      "Data exported to books_inventory1.json!\n"
     ]
    }
   ],
   "source": [
    "import json\n",
    "def export_to_json(file_name=\"books_inventory1.json\"):\n",
    "    books = pd.read_sql_query(\"SELECT * FROM Inventory\", conn)\n",
    "    books.to_json(file_name, orient='records')\n",
    "    print(f\"Data exported to {file_name}!\")\n",
    "\n",
    "# Example Usage\n",
    "export_to_json()"
   ]
  },
  {
   "cell_type": "markdown",
   "metadata": {},
   "source": [
    "# TESTING THE CRUD OPERATIONS GIVEN"
   ]
  },
  {
   "cell_type": "code",
   "execution_count": 13,
   "metadata": {},
   "outputs": [
    {
     "name": "stdout",
     "output_type": "stream",
     "text": [
      "Book added successfully!\n",
      "Book added successfully!\n"
     ]
    }
   ],
   "source": [
    "add_book(\"To Kill a Mockingbird\", \"Harper Lee\", \"Fiction\", \"1960-07-11\", \"9780061120084\")\n",
    "add_book(\"Brave New World\", \"Aldous Huxley\", \"Dystopian\", \"1932-01-01\", \"9780060850524\")"
   ]
  },
  {
   "cell_type": "code",
   "execution_count": 14,
   "metadata": {},
   "outputs": [
    {
     "name": "stdout",
     "output_type": "stream",
     "text": [
      "   entry_id                  title      author    genre publication_date  \\\n",
      "0         3  To Kill a Mockingbird  Harper Lee  Fiction       1960-07-11   \n",
      "\n",
      "            isbn  \n",
      "0  9780061120084  \n"
     ]
    }
   ],
   "source": [
    "print(filter_books(genre=\"Fiction\"))"
   ]
  },
  {
   "cell_type": "code",
   "execution_count": 15,
   "metadata": {},
   "outputs": [
    {
     "name": "stdout",
     "output_type": "stream",
     "text": [
      "Data exported to books_inventory1.csv!\n"
     ]
    }
   ],
   "source": [
    "export_to_csv()"
   ]
  },
  {
   "cell_type": "code",
   "execution_count": 16,
   "metadata": {},
   "outputs": [
    {
     "name": "stdout",
     "output_type": "stream",
     "text": [
      "Data exported to books_inventory1.json!\n"
     ]
    }
   ],
   "source": [
    "export_to_json()"
   ]
  },
  {
   "cell_type": "markdown",
   "metadata": {},
   "source": [
    "# TO VERIFY THE SAVED DATABASE"
   ]
  },
  {
   "cell_type": "code",
   "execution_count": 1,
   "metadata": {},
   "outputs": [
    {
     "name": "stdout",
     "output_type": "stream",
     "text": [
      "(1, 'The Great Gatsby', 'F. Scott Fitzgerald', 'Classic', '1925-04-10', '9780743273565')\n",
      "(2, '1984', 'George Orwell', 'Dystopian', '1949-06-08', '9780451524935')\n",
      "(3, 'To Kill a Mockingbird', 'Harper Lee', 'Fiction', '1960-07-11', '9780061120084')\n",
      "(4, 'Brave New World', 'Aldous Huxley', 'Dystopian', '1932-01-01', '9780060850524')\n"
     ]
    }
   ],
   "source": [
    "import sqlite3\n",
    "\n",
    "conn = sqlite3.connect('books_inventory1.db')\n",
    "cursor = conn.cursor()\n",
    "\n",
    "cursor.execute(\"SELECT * FROM Inventory\")\n",
    "rows = cursor.fetchall()\n",
    "\n",
    "for row in rows:\n",
    "    print(row)"
   ]
  },
  {
   "cell_type": "code",
   "execution_count": null,
   "metadata": {},
   "outputs": [],
   "source": []
  }
 ],
 "metadata": {
  "kernelspec": {
   "display_name": "Python 3",
   "language": "python",
   "name": "python3"
  },
  "language_info": {
   "codemirror_mode": {
    "name": "ipython",
    "version": 3
   },
   "file_extension": ".py",
   "mimetype": "text/x-python",
   "name": "python",
   "nbconvert_exporter": "python",
   "pygments_lexer": "ipython3",
   "version": "3.8.3"
  }
 },
 "nbformat": 4,
 "nbformat_minor": 4
}
