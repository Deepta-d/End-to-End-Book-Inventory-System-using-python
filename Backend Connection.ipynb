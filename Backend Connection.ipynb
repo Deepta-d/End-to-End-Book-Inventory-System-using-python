{
 "cells": [
  {
   "cell_type": "code",
   "execution_count": 1,
   "metadata": {},
   "outputs": [
    {
     "name": "stdout",
     "output_type": "stream",
     "text": [
      "Requirement already satisfied: flask in c:\\users\\dell\\anaconda3\\lib\\site-packages (1.1.2)\n",
      "Requirement already satisfied: flask-cors in c:\\users\\dell\\anaconda3\\lib\\site-packages (5.0.0)\n",
      "Requirement already satisfied: click>=5.1 in c:\\users\\dell\\anaconda3\\lib\\site-packages (from flask) (7.1.2)\n",
      "Requirement already satisfied: itsdangerous>=0.24 in c:\\users\\dell\\anaconda3\\lib\\site-packages (from flask) (1.1.0)\n",
      "Requirement already satisfied: Werkzeug>=0.15 in c:\\users\\dell\\appdata\\roaming\\python\\python38\\site-packages (from flask) (0.16.0)\n",
      "Requirement already satisfied: Jinja2>=2.10.1 in c:\\users\\dell\\anaconda3\\lib\\site-packages (from flask) (2.11.2)\n",
      "Requirement already satisfied: MarkupSafe>=0.23 in c:\\users\\dell\\anaconda3\\lib\\site-packages (from Jinja2>=2.10.1->flask) (1.1.1)\n",
      "Note: you may need to restart the kernel to use updated packages.\n"
     ]
    }
   ],
   "source": [
    "pip install flask flask-cors"
   ]
  },
  {
   "cell_type": "code",
   "execution_count": 1,
   "metadata": {},
   "outputs": [
    {
     "name": "stdout",
     "output_type": "stream",
     "text": [
      " * Serving Flask app \"__main__\" (lazy loading)\n",
      " * Environment: production\n",
      "   WARNING: This is a development server. Do not use it in a production deployment.\n",
      "   Use a production WSGI server instead.\n",
      " * Debug mode: on\n"
     ]
    },
    {
     "name": "stderr",
     "output_type": "stream",
     "text": [
      " * Running on http://127.0.0.1:5000/ (Press CTRL+C to quit)\n"
     ]
    }
   ],
   "source": [
    "from flask import Flask\n",
    "import threading\n",
    "\n",
    "app = Flask(__name__)\n",
    "\n",
    "@app.route('/')\n",
    "def home():\n",
    "    return \"Hello, Flask from Jupyter Notebook!\"\n",
    "\n",
    "# Start Flask server in a separate thread\n",
    "def run_app():\n",
    "    app.run(debug=True, use_reloader=False)  # Disable reloader to prevent threading issues\n",
    "\n",
    "threading.Thread(target=run_app).start()"
   ]
  },
  {
   "cell_type": "code",
   "execution_count": 3,
   "metadata": {},
   "outputs": [
    {
     "name": "stdout",
     "output_type": "stream",
     "text": [
      " * Serving Flask app \"__main__\" (lazy loading)\n",
      " * Environment: production\n",
      "   WARNING: This is a development server. Do not use it in a production deployment.\n",
      "   Use a production WSGI server instead.\n",
      " * Debug mode: on\n"
     ]
    },
    {
     "name": "stderr",
     "output_type": "stream",
     "text": [
      " * Restarting with windowsapi reloader\n"
     ]
    },
    {
     "ename": "SystemExit",
     "evalue": "1",
     "output_type": "error",
     "traceback": [
      "An exception has occurred, use %tb to see the full traceback.\n",
      "\u001b[1;31mSystemExit\u001b[0m\u001b[1;31m:\u001b[0m 1\n"
     ]
    },
    {
     "name": "stderr",
     "output_type": "stream",
     "text": [
      "127.0.0.1 - - [15/Nov/2024 13:02:31] \"OPTIONS /books HTTP/1.1\" 404 -\n",
      "127.0.0.1 - - [15/Nov/2024 13:02:56] \"GET /books HTTP/1.1\" 404 -\n"
     ]
    }
   ],
   "source": [
    "from flask import Flask, request, jsonify\n",
    "from flask_cors import CORS\n",
    "from flask_cors import cross_origin\n",
    "import sqlite3\n",
    "import csv\n",
    "import json\n",
    "\n",
    "app = Flask(__name__)\n",
    "CORS(app)  # Enable CORS for cross-origin requests\n",
    "\n",
    "# Connect to SQLite database\n",
    "DB_FILE = \"books_inventory1.db\"\n",
    "\n",
    "def connect_db():\n",
    "    conn = sqlite3.connect(DB_FILE)\n",
    "    return conn\n",
    "\n",
    "# Initialize the database\n",
    "def init_db():\n",
    "    conn = connect_db()\n",
    "    cursor = conn.cursor()\n",
    "    cursor.execute('''\n",
    "    CREATE TABLE IF NOT EXISTS Inventory (\n",
    "        entry_id INTEGER PRIMARY KEY AUTOINCREMENT,\n",
    "        title TEXT NOT NULL,\n",
    "        author TEXT NOT NULL,\n",
    "        genre TEXT NOT NULL,\n",
    "        publication_date DATE,\n",
    "        isbn TEXT UNIQUE NOT NULL\n",
    "    )\n",
    "    ''')\n",
    "    conn.commit()\n",
    "    conn.close()\n",
    "\n",
    "# Route: Add a new book\n",
    "@app.route('/add-book', methods=['POST'])\n",
    "@cross_origin()\n",
    "def add_book():\n",
    "    data = request.json\n",
    "    try:\n",
    "        conn = connect_db()\n",
    "        cursor = conn.cursor()\n",
    "        cursor.execute('''\n",
    "        INSERT INTO Inventory (title, author, genre, publication_date, isbn)\n",
    "        VALUES (?, ?, ?, ?, ?)\n",
    "        ''', (data['title'], data['author'], data['genre'], data['publication_date'], data['isbn']))\n",
    "        conn.commit()\n",
    "        conn.close()\n",
    "        return jsonify({\"message\": \"Book added successfully!\"}), 201\n",
    "    except sqlite3.IntegrityError as e:\n",
    "        return jsonify({\"error\": str(e)}), 400\n",
    "    pass\n",
    "\n",
    "# Route: Filter books\n",
    "@app.route('/filter-books', methods=['GET'])\n",
    "def filter_books():\n",
    "    title = request.args.get('title', '')\n",
    "    author = request.args.get('author', '')\n",
    "    genre = request.args.get('genre', '')\n",
    "    date_from = request.args.get('date_from', '')\n",
    "    date_to = request.args.get('date_to', '')\n",
    "\n",
    "    query = \"SELECT * FROM Inventory WHERE 1=1\"\n",
    "    params = []\n",
    "\n",
    "    if title:\n",
    "        query += \" AND title LIKE ?\"\n",
    "        params.append(f\"%{title}%\")\n",
    "    if author:\n",
    "        query += \" AND author LIKE ?\"\n",
    "        params.append(f\"%{author}%\")\n",
    "    if genre:\n",
    "        query += \" AND genre = ?\"\n",
    "        params.append(genre)\n",
    "    if date_from:\n",
    "        query += \" AND publication_date >= ?\"\n",
    "        params.append(date_from)\n",
    "    if date_to:\n",
    "        query += \" AND publication_date <= ?\"\n",
    "        params.append(date_to)\n",
    "\n",
    "    conn = connect_db()\n",
    "    cursor = conn.cursor()\n",
    "    cursor.execute(query, params)\n",
    "    rows = cursor.fetchall()\n",
    "    conn.close()\n",
    "\n",
    "    columns = ['entry_id', 'title', 'author', 'genre', 'publication_date', 'isbn']\n",
    "    books = [dict(zip(columns, row)) for row in rows]\n",
    "    return jsonify(books)\n",
    "\n",
    "# Route to get all books\n",
    "@app.route('/books', methods=['GET'])\n",
    "def get_books():\n",
    "    return jsonify(books)\n",
    "\n",
    "# Route: Export books to CSV\n",
    "@app.route('/export-csv', methods=['GET'])\n",
    "def export_csv():\n",
    "    conn = connect_db()\n",
    "    cursor = conn.cursor()\n",
    "    cursor.execute(\"SELECT * FROM Inventory\")\n",
    "    rows = cursor.fetchall()\n",
    "    conn.close()\n",
    "\n",
    "    file_name = \"books_inventory1.csv\"\n",
    "    with open(file_name, \"w\", newline=\"\") as csvfile:\n",
    "        writer = csv.writer(csvfile)\n",
    "        writer.writerow(['entry_id', 'title', 'author', 'genre', 'publication_date', 'isbn'])\n",
    "        writer.writerows(rows)\n",
    "\n",
    "    return jsonify({\"message\": f\"Data exported to {file_name}!\"})\n",
    "\n",
    "# Route: Export books to JSON\n",
    "@app.route('/export-json', methods=['GET'])\n",
    "def export_json():\n",
    "    conn = connect_db()\n",
    "    cursor = conn.cursor()\n",
    "    cursor.execute(\"SELECT * FROM Inventory\")\n",
    "    rows = cursor.fetchall()\n",
    "    conn.close()\n",
    "\n",
    "    columns = ['entry_id', 'title', 'author', 'genre', 'publication_date', 'isbn']\n",
    "    books = [dict(zip(columns, row)) for row in rows]\n",
    "\n",
    "    file_name = \"books_inventory1.json\"\n",
    "    with open(file_name, \"w\") as jsonfile:\n",
    "        json.dump(books, jsonfile, indent=4)\n",
    "\n",
    "    return jsonify({\"message\": f\"Data exported to {file_name}!\"})\n",
    "\n",
    "if __name__ == '__main__':\n",
    "    init_db()\n",
    "    app.run(debug=True)"
   ]
  },
  {
   "cell_type": "code",
   "execution_count": null,
   "metadata": {},
   "outputs": [],
   "source": []
  }
 ],
 "metadata": {
  "kernelspec": {
   "display_name": "Python 3",
   "language": "python",
   "name": "python3"
  },
  "language_info": {
   "codemirror_mode": {
    "name": "ipython",
    "version": 3
   },
   "file_extension": ".py",
   "mimetype": "text/x-python",
   "name": "python",
   "nbconvert_exporter": "python",
   "pygments_lexer": "ipython3",
   "version": "3.8.3"
  }
 },
 "nbformat": 4,
 "nbformat_minor": 4
}
